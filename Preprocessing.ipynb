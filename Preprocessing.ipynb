{
 "cells": [
  {
   "cell_type": "code",
   "execution_count": 1,
   "metadata": {},
   "outputs": [],
   "source": [
    "import os\n",
    "import glob\n",
    "import argparse\n",
    "import numpy as np\n",
    "import pandas as pd\n",
    "import xml.etree.ElementTree as ET\n",
    "from sklearn.model_selection import train_test_split\n",
    "np.random.seed(111)"
   ]
  },
  {
   "cell_type": "code",
   "execution_count": 2,
   "metadata": {},
   "outputs": [],
   "source": [
    "# Convert to dataframe\n",
    "def convert_xml_to_df(files):\n",
    "    data = []\n",
    "    # Iterate over each file\n",
    "    for sample in files:\n",
    "        # Get the xml tree\n",
    "        tree = ET.parse(sample)\n",
    "\n",
    "        # Get the root\n",
    "        root = tree.getroot()\n",
    "\n",
    "        # Get the members and extract the values\n",
    "        for member in root.findall('object'):\n",
    "            filename = root.find('filename').text\n",
    "            width =  int((root.find('size')).find('width').text)\n",
    "            height = int((root.find('size')).find('height').text)\n",
    "            label =  member.find('name').text\n",
    "\n",
    "            bndbox = member.find('bndbox')\n",
    "            xmin = float(bndbox.find('xmin').text)\n",
    "            xmax = float(bndbox.find('xmax').text)\n",
    "            ymin = float(bndbox.find('ymin').text)\n",
    "            ymax = float(bndbox.find('ymax').text)\n",
    "\n",
    "            data.append((filename, width, height, label, xmin, ymin, xmax, ymax))\n",
    "    # Create a pandas dataframe\n",
    "    columns_name = ['filename', 'width', 'height', 'class', 'xmin', 'ymin', 'xmax', 'ymax']\n",
    "    df = pd.DataFrame(data=data, columns=columns_name)\n",
    "\n",
    "    return df"
   ]
  },
  {
   "cell_type": "code",
   "execution_count": 3,
   "metadata": {},
   "outputs": [
    {
     "name": "stdout",
     "output_type": "stream",
     "text": [
      "Total number of images:  1086\n",
      "Total number of xmls:  1086\n"
     ]
    }
   ],
   "source": [
    "images = sorted(glob.glob('./felina/data_300x300/images/*.jpg'))\n",
    "xmls = sorted(glob.glob('./felina/data_300x300/labels/*.xml'))\n",
    "print(\"Total number of images: \", len(images))\n",
    "print(\"Total number of xmls: \", len(xmls))"
   ]
  },
  {
   "cell_type": "code",
   "execution_count": 4,
   "metadata": {},
   "outputs": [],
   "source": [
    "df = convert_xml_to_df(xmls)"
   ]
  },
  {
   "cell_type": "code",
   "execution_count": 5,
   "metadata": {},
   "outputs": [
    {
     "data": {
      "text/html": [
       "<div>\n",
       "<style scoped>\n",
       "    .dataframe tbody tr th:only-of-type {\n",
       "        vertical-align: middle;\n",
       "    }\n",
       "\n",
       "    .dataframe tbody tr th {\n",
       "        vertical-align: top;\n",
       "    }\n",
       "\n",
       "    .dataframe thead th {\n",
       "        text-align: right;\n",
       "    }\n",
       "</style>\n",
       "<table border=\"1\" class=\"dataframe\">\n",
       "  <thead>\n",
       "    <tr style=\"text-align: right;\">\n",
       "      <th></th>\n",
       "      <th>filename</th>\n",
       "      <th>width</th>\n",
       "      <th>height</th>\n",
       "      <th>class</th>\n",
       "      <th>xmin</th>\n",
       "      <th>ymin</th>\n",
       "      <th>xmax</th>\n",
       "      <th>ymax</th>\n",
       "    </tr>\n",
       "  </thead>\n",
       "  <tbody>\n",
       "    <tr>\n",
       "      <th>0</th>\n",
       "      <td>000045.jpg</td>\n",
       "      <td>300</td>\n",
       "      <td>300</td>\n",
       "      <td>aggregate reticulocyte</td>\n",
       "      <td>140.0</td>\n",
       "      <td>115.0</td>\n",
       "      <td>169.0</td>\n",
       "      <td>143.0</td>\n",
       "    </tr>\n",
       "    <tr>\n",
       "      <th>1</th>\n",
       "      <td>000045.jpg</td>\n",
       "      <td>300</td>\n",
       "      <td>300</td>\n",
       "      <td>punctate reticulocyte</td>\n",
       "      <td>72.0</td>\n",
       "      <td>155.0</td>\n",
       "      <td>103.0</td>\n",
       "      <td>187.0</td>\n",
       "    </tr>\n",
       "    <tr>\n",
       "      <th>2</th>\n",
       "      <td>000045.jpg</td>\n",
       "      <td>300</td>\n",
       "      <td>300</td>\n",
       "      <td>erythrocyte</td>\n",
       "      <td>184.0</td>\n",
       "      <td>195.0</td>\n",
       "      <td>213.0</td>\n",
       "      <td>228.0</td>\n",
       "    </tr>\n",
       "    <tr>\n",
       "      <th>3</th>\n",
       "      <td>000058.jpg</td>\n",
       "      <td>300</td>\n",
       "      <td>300</td>\n",
       "      <td>erythrocyte</td>\n",
       "      <td>174.0</td>\n",
       "      <td>65.0</td>\n",
       "      <td>203.0</td>\n",
       "      <td>94.0</td>\n",
       "    </tr>\n",
       "    <tr>\n",
       "      <th>4</th>\n",
       "      <td>000058.jpg</td>\n",
       "      <td>300</td>\n",
       "      <td>300</td>\n",
       "      <td>aggregate reticulocyte</td>\n",
       "      <td>120.0</td>\n",
       "      <td>113.0</td>\n",
       "      <td>151.0</td>\n",
       "      <td>143.0</td>\n",
       "    </tr>\n",
       "  </tbody>\n",
       "</table>\n",
       "</div>"
      ],
      "text/plain": [
       "     filename  width  height                   class   xmin   ymin   xmax  \\\n",
       "0  000045.jpg    300     300  aggregate reticulocyte  140.0  115.0  169.0   \n",
       "1  000045.jpg    300     300   punctate reticulocyte   72.0  155.0  103.0   \n",
       "2  000045.jpg    300     300             erythrocyte  184.0  195.0  213.0   \n",
       "3  000058.jpg    300     300             erythrocyte  174.0   65.0  203.0   \n",
       "4  000058.jpg    300     300  aggregate reticulocyte  120.0  113.0  151.0   \n",
       "\n",
       "    ymax  \n",
       "0  143.0  \n",
       "1  187.0  \n",
       "2  228.0  \n",
       "3   94.0  \n",
       "4  143.0  "
      ]
     },
     "execution_count": 5,
     "metadata": {},
     "output_type": "execute_result"
    }
   ],
   "source": [
    "df.head()"
   ]
  },
  {
   "cell_type": "code",
   "execution_count": 6,
   "metadata": {},
   "outputs": [
    {
     "data": {
      "text/plain": [
       "erythrocyte               1982\n",
       "punctate reticulocyte     1007\n",
       "aggregate reticulocyte    1001\n",
       "Name: class, dtype: int64"
      ]
     },
     "execution_count": 6,
     "metadata": {},
     "output_type": "execute_result"
    }
   ],
   "source": [
    "df['class'].value_counts()"
   ]
  },
  {
   "cell_type": "code",
   "execution_count": 7,
   "metadata": {},
   "outputs": [],
   "source": [
    "train, valid = train_test_split(df, test_size=0.2, stratify=df['class'], random_state=111)"
   ]
  },
  {
   "cell_type": "code",
   "execution_count": 8,
   "metadata": {},
   "outputs": [
    {
     "name": "stdout",
     "output_type": "stream",
     "text": [
      "Number of training samples:  3192\n",
      "Number of validation samples:  798\n"
     ]
    }
   ],
   "source": [
    "train = train.reset_index(drop=True)\n",
    "valid = valid.reset_index(drop=True)\n",
    "print(\"Number of training samples: \", len(train))\n",
    "print(\"Number of validation samples: \", len(valid))"
   ]
  },
  {
   "cell_type": "code",
   "execution_count": 11,
   "metadata": {},
   "outputs": [],
   "source": [
    "del df"
   ]
  },
  {
   "cell_type": "markdown",
   "metadata": {},
   "source": [
    "---\n",
    "\n",
    "## Dataframe to TFRecords"
   ]
  },
  {
   "cell_type": "code",
   "execution_count": 10,
   "metadata": {},
   "outputs": [],
   "source": [
    "import sys\n",
    "sys.path.append(\"..\")\n",
    "import io\n",
    "import tensorflow as tf\n",
    "import matplotlib.pyplot as plt\n",
    "import matplotlib.image as mimg\n",
    "from PIL import Image\n",
    "from collections import namedtuple, OrderedDict\n",
    "from models.research.object_detection.utils import dataset_util\n",
    "from models.research.object_detection.utils import label_map_util"
   ]
  },
  {
   "cell_type": "code",
   "execution_count": 16,
   "metadata": {},
   "outputs": [],
   "source": [
    "# Group by imagefile name\n",
    "def make_groups(df, field=None):\n",
    "    if field==None:\n",
    "        field = 'filename'\n",
    "        \n",
    "    data = namedtuple('object', ['filename', 'info'])\n",
    "    grouped = df.groupby(field)\n",
    "    \n",
    "    grouped_data = []\n",
    "    for filename, x in zip(grouped.groups.keys(), grouped.groups):\n",
    "        grouped_data.append(data(filename, grouped.get_group(x)))\n",
    "        \n",
    "    return grouped_data    "
   ]
  },
  {
   "cell_type": "code",
   "execution_count": 13,
   "metadata": {},
   "outputs": [],
   "source": [
    "def create_tf_example(group, img_path, label_map_dict):\n",
    "    # Read the imagefile. This will be used in features later \n",
    "    with tf.gfile.GFile(os.path.join(img_path, '{}'.format(group.filename)), 'rb') as f:\n",
    "        img_file = f.read()\n",
    "    \n",
    "    # Encode to bytes and read using PIL. Could be done directly too\n",
    "    encoded_img = io.BytesIO(img_file)\n",
    "    # Read the image using PIL\n",
    "    img = Image.open(encoded_img)\n",
    "    width, height = img.size\n",
    "    \n",
    "    # Encode the name of the img file\n",
    "    filename = group.filename.encode('utf8')\n",
    "    #print(\"Reading the file: \", group.filename)\n",
    "    # Define the format of the image file\n",
    "    img_format = b'jpg'   # The name will be in bytes\n",
    "    \n",
    "    \n",
    "    # Define the variables that you need as features\n",
    "    xmins = []\n",
    "    xmaxs = []\n",
    "    ymins = []\n",
    "    ymaxs = []\n",
    "    classes_text = []\n",
    "    classes = []\n",
    "\n",
    "    # Iterate over the namedtuple object\n",
    "    for index, row in group.info.iterrows():\n",
    "        xmins.append(row['xmin'] / width)   # We have to store normalized values for bbox as per the TF api\n",
    "        xmaxs.append(row['xmax'] / width)\n",
    "        ymins.append(row['ymin'] / height)\n",
    "        ymaxs.append(row['ymax'] / height)\n",
    "        classes_text.append(row['class'].encode('utf8'))\n",
    "        classes.append(label_map_dict[row['class']])\n",
    "\n",
    "    tf_example = tf.train.Example(features=tf.train.Features(feature={\n",
    "        'image/height': dataset_util.int64_feature(height),\n",
    "        'image/width': dataset_util.int64_feature(width),\n",
    "        'image/filename': dataset_util.bytes_feature(filename),\n",
    "        'image/source_id': dataset_util.bytes_feature(filename),\n",
    "        'image/encoded': dataset_util.bytes_feature(img_file),\n",
    "        'image/format': dataset_util.bytes_feature(img_format),\n",
    "        'image/object/bbox/xmin': dataset_util.float_list_feature(xmins),\n",
    "        'image/object/bbox/xmax': dataset_util.float_list_feature(xmaxs),\n",
    "        'image/object/bbox/ymin': dataset_util.float_list_feature(ymins),\n",
    "        'image/object/bbox/ymax': dataset_util.float_list_feature(ymaxs),\n",
    "        'image/object/class/text': dataset_util.bytes_list_feature(classes_text),\n",
    "        'image/object/class/label': dataset_util.int64_list_feature(classes),}))\n",
    "    \n",
    "    return tf_example"
   ]
  },
  {
   "cell_type": "code",
   "execution_count": 17,
   "metadata": {},
   "outputs": [
    {
     "name": "stdout",
     "output_type": "stream",
     "text": [
      "TFRecords created successfully\n"
     ]
    }
   ],
   "source": [
    "writer = tf.python_io.TFRecordWriter('./data/train.record') # The output path shouldn't be a directory\n",
    "\n",
    "# Path where all the images are present\n",
    "# img_path = './all_data_training/sampled_data/images/'\n",
    "img_path = './felina/data_300x300/images/'\n",
    "\n",
    "# create groups in the csvfile. One image may contain several instances of an object hence grouping\n",
    "img_groups = make_groups(train, field='filename')\n",
    "\n",
    "# Label map\n",
    "label_map_dict = label_map_util.get_label_map_dict('./bloodmap.pbtxt')\n",
    "\n",
    "# Iterate over the samples in each group create a TFRecord\n",
    "for group in img_groups:\n",
    "    tf_example = create_tf_example(group, img_path, label_map_dict)\n",
    "    writer.write(tf_example.SerializeToString())\n",
    "\n",
    "# close the writer\n",
    "writer.close()\n",
    "print(\"TFRecords created successfully\")"
   ]
  },
  {
   "cell_type": "code",
   "execution_count": 18,
   "metadata": {},
   "outputs": [
    {
     "name": "stdout",
     "output_type": "stream",
     "text": [
      "TFRecords created successfully\n"
     ]
    }
   ],
   "source": [
    "writer = tf.python_io.TFRecordWriter('./data/valid.record') # The output path shouldn't be a directory\n",
    "\n",
    "# Path where all the images are present\n",
    "# img_path = './all_data_training/sampled_data/images/'\n",
    "img_path = './felina/data_300x300/images/'\n",
    "\n",
    "# create groups in the csvfile. One image may contain several instances of an object hence grouping\n",
    "img_groups = make_groups(valid, field='filename')\n",
    "\n",
    "# Label map\n",
    "label_map_dict = label_map_util.get_label_map_dict('./bloodmap.pbtxt')\n",
    "\n",
    "# Iterate over the samples in each group create a TFRecord\n",
    "for group in img_groups:\n",
    "    tf_example = create_tf_example(group, img_path, label_map_dict)\n",
    "    writer.write(tf_example.SerializeToString())\n",
    "\n",
    "# close the writer\n",
    "writer.close()\n",
    "print(\"TFRecords created successfully\")"
   ]
  },
  {
   "cell_type": "code",
   "execution_count": null,
   "metadata": {},
   "outputs": [],
   "source": []
  }
 ],
 "metadata": {
  "kernelspec": {
   "display_name": "Python 3",
   "language": "python",
   "name": "python3"
  },
  "language_info": {
   "codemirror_mode": {
    "name": "ipython",
    "version": 3
   },
   "file_extension": ".py",
   "mimetype": "text/x-python",
   "name": "python",
   "nbconvert_exporter": "python",
   "pygments_lexer": "ipython3",
   "version": "3.6.4"
  }
 },
 "nbformat": 4,
 "nbformat_minor": 2
}
